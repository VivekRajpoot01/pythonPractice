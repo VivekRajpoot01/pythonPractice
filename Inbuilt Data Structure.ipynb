{
 "cells": [
  {
   "cell_type": "markdown",
   "id": "f90b3e4b",
   "metadata": {},
   "source": [
    "## Python Number Methods"
   ]
  },
  {
   "cell_type": "markdown",
   "id": "275707ed",
   "metadata": {},
   "source": [
    "### abs()\n",
    " gives the absolute value of any number"
   ]
  },
  {
   "cell_type": "code",
   "execution_count": 3,
   "id": "4505e031",
   "metadata": {},
   "outputs": [
    {
     "name": "stdout",
     "output_type": "stream",
     "text": [
      "20\n",
      "30\n"
     ]
    }
   ],
   "source": [
    "## absolute of a number abs()\n",
    "## give positive value if a number is negative for e.g,\n",
    "a = 20\n",
    "b = -30\n",
    "print(abs(a))\n",
    "print(abs(b))"
   ]
  },
  {
   "cell_type": "markdown",
   "id": "662c64a0",
   "metadata": {},
   "source": [
    "### ceil()\n",
    "    gives the upper value of any decimal number"
   ]
  },
  {
   "cell_type": "code",
   "execution_count": 10,
   "id": "513abeb7",
   "metadata": {},
   "outputs": [
    {
     "name": "stdout",
     "output_type": "stream",
     "text": [
      "45\n",
      "46\n",
      "-12\n"
     ]
    }
   ],
   "source": [
    "## to use this function first we have to import the math library then we can use this ceil function\n",
    "import math\n",
    "print(math.ceil(44.2))\n",
    "print(math.ceil(46))\n",
    "print(math.ceil(-12.6))"
   ]
  },
  {
   "cell_type": "markdown",
   "id": "81ab1a3a",
   "metadata": {},
   "source": [
    "### floor()"
   ]
  },
  {
   "cell_type": "code",
   "execution_count": 11,
   "id": "a96a6b2e",
   "metadata": {},
   "outputs": [
    {
     "name": "stdout",
     "output_type": "stream",
     "text": [
      "11\n",
      "-13\n"
     ]
    }
   ],
   "source": [
    "print(math.floor(11.2))\n",
    "print(math.floor(-12.2))"
   ]
  },
  {
   "cell_type": "markdown",
   "id": "ebe5416e",
   "metadata": {},
   "source": [
    "### exp()\n",
    "    return the exponential value of number x which is pass in the argument"
   ]
  },
  {
   "cell_type": "code",
   "execution_count": 12,
   "id": "81c7be67",
   "metadata": {},
   "outputs": [
    {
     "data": {
      "text/plain": [
       "22026.465794806718"
      ]
     },
     "execution_count": 12,
     "metadata": {},
     "output_type": "execute_result"
    }
   ],
   "source": [
    "math.exp(10)"
   ]
  },
  {
   "cell_type": "markdown",
   "id": "25d8e987",
   "metadata": {},
   "source": [
    "### log(x)"
   ]
  },
  {
   "cell_type": "code",
   "execution_count": 14,
   "id": "bfa0f1a1",
   "metadata": {},
   "outputs": [
    {
     "name": "stdout",
     "output_type": "stream",
     "text": [
      "2.302585092994046\n",
      "0.6931471805599453\n"
     ]
    }
   ],
   "source": [
    "print(math.log(10))\n",
    "print(math.log(2))"
   ]
  },
  {
   "cell_type": "code",
   "execution_count": 15,
   "id": "59860d82",
   "metadata": {},
   "outputs": [
    {
     "name": "stdout",
     "output_type": "stream",
     "text": [
      "1.0\n"
     ]
    }
   ],
   "source": [
    "## we can also log10 to calculate the result\n",
    "print(math.log10(10))"
   ]
  },
  {
   "cell_type": "markdown",
   "id": "6cfe9e14",
   "metadata": {},
   "source": [
    "### max()"
   ]
  },
  {
   "cell_type": "code",
   "execution_count": 16,
   "id": "924322d7",
   "metadata": {},
   "outputs": [
    {
     "name": "stdout",
     "output_type": "stream",
     "text": [
      "9\n"
     ]
    }
   ],
   "source": [
    "## gives maximum value out of other vaulue, for e.g,\n",
    "print(max(1,9,6,5,7))"
   ]
  },
  {
   "cell_type": "markdown",
   "id": "bf4c6884",
   "metadata": {},
   "source": [
    "### min()"
   ]
  },
  {
   "cell_type": "code",
   "execution_count": 17,
   "id": "3a0a5c09",
   "metadata": {},
   "outputs": [
    {
     "name": "stdout",
     "output_type": "stream",
     "text": [
      "1\n"
     ]
    }
   ],
   "source": [
    "## gives minimum value\n",
    "print(min(1,8,6,3,5))"
   ]
  },
  {
   "cell_type": "markdown",
   "id": "8904650c",
   "metadata": {},
   "source": [
    "### pow()"
   ]
  },
  {
   "cell_type": "code",
   "execution_count": 18,
   "id": "78d41f4d",
   "metadata": {},
   "outputs": [
    {
     "data": {
      "text/plain": [
       "32.0"
      ]
     },
     "execution_count": 18,
     "metadata": {},
     "output_type": "execute_result"
    }
   ],
   "source": [
    "## calculate result of the power of number\n",
    "import math\n",
    "math.pow(2,5) #2**5"
   ]
  },
  {
   "cell_type": "markdown",
   "id": "981b221a",
   "metadata": {},
   "source": [
    "### sqrt()"
   ]
  },
  {
   "cell_type": "code",
   "execution_count": 20,
   "id": "f374e17e",
   "metadata": {},
   "outputs": [
    {
     "name": "stdout",
     "output_type": "stream",
     "text": [
      "4.0\n"
     ]
    }
   ],
   "source": [
    "## used to find the square root of any number\n",
    "import math\n",
    "print(math.sqrt(16))"
   ]
  },
  {
   "cell_type": "markdown",
   "id": "8b514d4d",
   "metadata": {},
   "source": [
    "# List\n",
    "    List is a data structure in python that is mutuable, or changeable, ordered sequence of elements.\n",
    "    Each element present in the list is called the item and it is defined by using the square bracket."
   ]
  },
  {
   "cell_type": "code",
   "execution_count": 22,
   "id": "d58a76ea",
   "metadata": {},
   "outputs": [
    {
     "data": {
      "text/plain": [
       "list"
      ]
     },
     "execution_count": 22,
     "metadata": {},
     "output_type": "execute_result"
    }
   ],
   "source": [
    "type([])"
   ]
  },
  {
   "cell_type": "code",
   "execution_count": 23,
   "id": "012a09a0",
   "metadata": {},
   "outputs": [
    {
     "name": "stdout",
     "output_type": "stream",
     "text": [
      "V\n"
     ]
    },
    {
     "ename": "TypeError",
     "evalue": "'str' object does not support item assignment",
     "output_type": "error",
     "traceback": [
      "\u001b[1;31m---------------------------------------------------------------------------\u001b[0m",
      "\u001b[1;31mTypeError\u001b[0m                                 Traceback (most recent call last)",
      "\u001b[1;32m~\\AppData\\Local\\Temp\\ipykernel_4552\\968280217.py\u001b[0m in \u001b[0;36m<module>\u001b[1;34m\u001b[0m\n\u001b[0;32m      6\u001b[0m \u001b[0mprint\u001b[0m\u001b[1;33m(\u001b[0m\u001b[0mstr\u001b[0m\u001b[1;33m[\u001b[0m\u001b[1;36m0\u001b[0m\u001b[1;33m]\u001b[0m\u001b[1;33m)\u001b[0m\u001b[1;33m\u001b[0m\u001b[1;33m\u001b[0m\u001b[0m\n\u001b[0;32m      7\u001b[0m \u001b[1;31m## but we can't change the actual value of the string \"Vivek\" it will through an error\u001b[0m\u001b[1;33m\u001b[0m\u001b[1;33m\u001b[0m\u001b[0m\n\u001b[1;32m----> 8\u001b[1;33m \u001b[0mstr\u001b[0m\u001b[1;33m[\u001b[0m\u001b[1;36m0\u001b[0m\u001b[1;33m]\u001b[0m \u001b[1;33m=\u001b[0m \u001b[1;34m'H'\u001b[0m\u001b[1;33m\u001b[0m\u001b[1;33m\u001b[0m\u001b[0m\n\u001b[0m\u001b[0;32m      9\u001b[0m \u001b[1;31m## That's why string are immutable that we can't change\u001b[0m\u001b[1;33m\u001b[0m\u001b[1;33m\u001b[0m\u001b[0m\n",
      "\u001b[1;31mTypeError\u001b[0m: 'str' object does not support item assignment"
     ]
    }
   ],
   "source": [
    "# mutable vs immutable\n",
    "## before giving any definition to these, first we considered an example of string\n",
    "## asssume we have a string of str variable\n",
    "str = \"Vivek\"\n",
    "## now we can easily access the character of \"Vivek\" using it's index\n",
    "print(str[0])\n",
    "## but we can't change the actual value of the string \"Vivek\" it will through an error\n",
    "str[0] = 'H'\n",
    "## That's why string are immutable that we can't change"
   ]
  },
  {
   "cell_type": "code",
   "execution_count": 26,
   "id": "7c5db59d",
   "metadata": {},
   "outputs": [
    {
     "name": "stdout",
     "output_type": "stream",
     "text": [
      "[1, 5, 4, 'Hary', 'Raju']\n",
      "[1, 5, 4, 'Vivek', 'Raju']\n"
     ]
    }
   ],
   "source": [
    "## now take the example of list why we called list as mutable\n",
    "lst = [1,5,4,\"Hary\",\"Raju\"]\n",
    "print(lst)  # easily print the list with different data type\n",
    "## try to change the value in the list\n",
    "lst[3] = \"Vivek\"   # changing the item 'Harry' to 'Vivek'\n",
    "## let's see the output\n",
    "print(lst)\n",
    "## now we can easily see that the value of the item has been changed"
   ]
  },
  {
   "cell_type": "markdown",
   "id": "51866c34",
   "metadata": {},
   "source": [
    "## List Methods"
   ]
  },
  {
   "cell_type": "code",
   "execution_count": 2,
   "id": "6d16412d",
   "metadata": {},
   "outputs": [
    {
     "name": "stdout",
     "output_type": "stream",
     "text": [
      "[1, 8, 6, 'ramu', 'sonu', 'Rahul']\n"
     ]
    }
   ],
   "source": [
    "## append\n",
    "# we can add any item at the end of the list by using append, for e.g,\n",
    "lst1 = [1,8,6,\"ramu\",\"sonu\"]\n",
    "## now if i want to add any item at the end of the list then i can use append method\n",
    "lst1.append(\"Rahul\")\n",
    "print(lst1)"
   ]
  },
  {
   "cell_type": "code",
   "execution_count": 3,
   "id": "d59e1e55",
   "metadata": {},
   "outputs": [
    {
     "name": "stdout",
     "output_type": "stream",
     "text": [
      "[1, 8, 6, 'ramu', 'sonu', 'Rahul', ['dog', 'cat']]\n"
     ]
    }
   ],
   "source": [
    "## we can also add a list in the previous list, for e.g,\n",
    "# if i want to add [\"dog\", \"cat\"] in the lst1 then\n",
    "lst1.append([\"dog\",\"cat\"])\n",
    "print(lst1)"
   ]
  },
  {
   "cell_type": "code",
   "execution_count": 6,
   "id": "26231131",
   "metadata": {},
   "outputs": [
    {
     "name": "stdout",
     "output_type": "stream",
     "text": [
      "['dog', 'cat']\n",
      "dog\n",
      "cat\n"
     ]
    }
   ],
   "source": [
    "## now if we want to get the list of dog and cat then\n",
    "print(lst1[6])\n",
    "## to get the specific value of dog and cat then we have to again specify the index of dog or cat\n",
    "## for dog\n",
    "print(lst1[6][0])\n",
    "## for cat\n",
    "print(lst1[6][1])"
   ]
  },
  {
   "cell_type": "code",
   "execution_count": 7,
   "id": "b3dfdfb7",
   "metadata": {},
   "outputs": [
    {
     "data": {
      "text/plain": [
       "[1, 8, 6, 'ramu', 'sonu', 'Rahul', ['dog', 'cat'], 'Vivek', 'Rajpoot']"
      ]
     },
     "execution_count": 7,
     "metadata": {},
     "output_type": "execute_result"
    }
   ],
   "source": [
    "## There is other method when we don't want any nested list but we want to give input as a list\n",
    "## now we have a list that we want to add in it without nested\n",
    "## use extend() method\n",
    "lst1.extend([\"Vivek\", \"Rajpoot\"])\n",
    "lst1"
   ]
  },
  {
   "cell_type": "code",
   "execution_count": 8,
   "id": "e6944ea5",
   "metadata": {},
   "outputs": [
    {
     "data": {
      "text/plain": [
       "[1, 8, 6, 'ramu', 'sonu', 'Rahul', ['dog', 'cat'], 'Vivek']"
      ]
     },
     "execution_count": 8,
     "metadata": {},
     "output_type": "execute_result"
    }
   ],
   "source": [
    "## we can also delete the last item of the list by using the pop() method\n",
    "lst1.pop()\n",
    "lst1"
   ]
  },
  {
   "cell_type": "code",
   "execution_count": 9,
   "id": "b3c0f49b",
   "metadata": {},
   "outputs": [
    {
     "data": {
      "text/plain": [
       "[1, 8, 69, 6, 'ramu', 'sonu', 'Rahul', ['dog', 'cat'], 'Vivek']"
      ]
     },
     "execution_count": 9,
     "metadata": {},
     "output_type": "execute_result"
    }
   ],
   "source": [
    "## if we want to insert any specific item at the specific position then we can use insert() method\n",
    "lst1.insert(2,69)\n",
    "lst1"
   ]
  },
  {
   "cell_type": "code",
   "execution_count": 13,
   "id": "be3f7ce2",
   "metadata": {},
   "outputs": [
    {
     "data": {
      "text/plain": [
       "[69, 6, 'ramu', 'sonu', 'Rahul']"
      ]
     },
     "execution_count": 13,
     "metadata": {},
     "output_type": "execute_result"
    }
   ],
   "source": [
    "## we can also specify from which index to which index we want the list\n",
    "## to obtain this result we can use (:) we specify index value on the left and right side of it\n",
    "## for eg if we want the list from index 2 to index 6, then we have to specify 2 and 7 on the left and right side \n",
    "lst1[2:7]"
   ]
  },
  {
   "cell_type": "code",
   "execution_count": 25,
   "id": "3f7a5f97",
   "metadata": {},
   "outputs": [
    {
     "name": "stdout",
     "output_type": "stream",
     "text": [
      "[1, 2, 5, 6, 7, 8, 9]\n",
      "[9, 8, 7, 6, 5, 2, 1]\n",
      "Sum: 38\n"
     ]
    }
   ],
   "source": [
    "## if we have any integer value in the list then we can easily sort the list in increasing and decreasig order\n",
    "lst2 = [5,6,8,1,2,9,7]\n",
    "# to sort in ascendding order\n",
    "lst2.sort()\n",
    "print(lst2)\n",
    "# to reverse it we can use reverse method\n",
    "lst2.reverse()\n",
    "print(lst2)\n",
    "## we can also get the sum of items present in lst2 by using sum()\n",
    "print(\"Sum:\",sum(lst2))"
   ]
  },
  {
   "cell_type": "markdown",
   "id": "04ccb8aa",
   "metadata": {},
   "source": [
    "# Sets\n",
    "    A set is an unordered collection data type that is iterable, mutable and has no duplicate elements present in it. "
   ]
  },
  {
   "cell_type": "code",
   "execution_count": 26,
   "id": "6f1f1299",
   "metadata": {},
   "outputs": [
    {
     "data": {
      "text/plain": [
       "set"
      ]
     },
     "execution_count": 26,
     "metadata": {},
     "output_type": "execute_result"
    }
   ],
   "source": [
    "## to define a set\n",
    "set1 = {1,2,3,4,5}\n",
    "type(set1)"
   ]
  },
  {
   "cell_type": "code",
   "execution_count": 27,
   "id": "379ae8f2",
   "metadata": {},
   "outputs": [
    {
     "data": {
      "text/plain": [
       "dict"
      ]
     },
     "execution_count": 27,
     "metadata": {},
     "output_type": "execute_result"
    }
   ],
   "source": [
    "## now we can easily see that the type of above data structure is set \n",
    "## NOTE ## but remember one thing we don't any field in the above field then the type of the above data structure will be \n",
    "## shown as dectionary\n",
    "set2 = {}\n",
    "type(set2)"
   ]
  },
  {
   "cell_type": "code",
   "execution_count": 29,
   "id": "6833b06d",
   "metadata": {},
   "outputs": [
    {
     "name": "stdout",
     "output_type": "stream",
     "text": [
      "{1, 2, 5, 6, 8}\n"
     ]
    }
   ],
   "source": [
    "## set is like as the list but the main difference is that set doesn't store any duplicate value\n",
    "set3 = {1,2,1,5,2,6,8,5}\n",
    "print(set3)\n",
    "## now we can easily see that the duplicate value has been deleted from the above set"
   ]
  },
  {
   "cell_type": "code",
   "execution_count": 30,
   "id": "5de4a280",
   "metadata": {},
   "outputs": [],
   "source": [
    "## Remember one thing that we can't get any specific value through index that we can perform in the list\n",
    "## but it will through an error if we want any element through index but we can iterate it\n",
    "\n",
    "## There are many inbuilt functions are present in the set that helps in performing the mathematical operations on"
   ]
  },
  {
   "cell_type": "markdown",
   "id": "355996fd",
   "metadata": {},
   "source": [
    "# Set functions"
   ]
  },
  {
   "cell_type": "code",
   "execution_count": 2,
   "id": "25328880",
   "metadata": {},
   "outputs": [
    {
     "data": {
      "text/plain": [
       "{'Spiderman'}"
      ]
     },
     "execution_count": 2,
     "metadata": {},
     "output_type": "execute_result"
    }
   ],
   "source": [
    "## We got some knowledge of the sets from Class 11 the operations that we perform on the notebook, we can perform these by\n",
    "## simply using that function and we will got the required result\n",
    "\n",
    "#creating the two sets\n",
    "st1 = set([\"Hulk\",\"Avangers\",\"Shaktiman\"])\n",
    "st2 = set([\"Hulk\",\"Avangers\",\"Shaktiman\",\"Spiderman\"])\n",
    "## now we can perform some operations on these sets\n",
    "st2.difference(st1)"
   ]
  },
  {
   "cell_type": "code",
   "execution_count": 3,
   "id": "dc84ad1d",
   "metadata": {},
   "outputs": [
    {
     "data": {
      "text/plain": [
       "True"
      ]
     },
     "execution_count": 3,
     "metadata": {},
     "output_type": "execute_result"
    }
   ],
   "source": [
    "st2.issuperset(st1)"
   ]
  },
  {
   "cell_type": "code",
   "execution_count": 4,
   "id": "a6d8a02c",
   "metadata": {},
   "outputs": [
    {
     "data": {
      "text/plain": [
       "True"
      ]
     },
     "execution_count": 4,
     "metadata": {},
     "output_type": "execute_result"
    }
   ],
   "source": [
    "st1.issubset(st2)"
   ]
  },
  {
   "cell_type": "code",
   "execution_count": 5,
   "id": "91d262e0",
   "metadata": {},
   "outputs": [
    {
     "data": {
      "text/plain": [
       "{'Avangers', 'Hulk', 'Shaktiman', 'Spiderman'}"
      ]
     },
     "execution_count": 5,
     "metadata": {},
     "output_type": "execute_result"
    }
   ],
   "source": [
    "st2.union(st1)"
   ]
  },
  {
   "cell_type": "code",
   "execution_count": 6,
   "id": "8690d1cf",
   "metadata": {},
   "outputs": [
    {
     "data": {
      "text/plain": [
       "{'Avangers', 'Hulk', 'Shaktiman'}"
      ]
     },
     "execution_count": 6,
     "metadata": {},
     "output_type": "execute_result"
    }
   ],
   "source": [
    "st2.intersection(st1)"
   ]
  },
  {
   "cell_type": "markdown",
   "id": "24c9297d",
   "metadata": {},
   "source": [
    "# Dictionaries\n",
    "    A dictionary is a collection of unordered, changeable and indexed. In python dictionaries are written with curly\n",
    "    brackets and have keys-value pair"
   ]
  },
  {
   "cell_type": "code",
   "execution_count": 9,
   "id": "81980f7f",
   "metadata": {},
   "outputs": [
    {
     "data": {
      "text/plain": [
       "dict"
      ]
     },
     "execution_count": 9,
     "metadata": {},
     "output_type": "execute_result"
    }
   ],
   "source": [
    "## To define a dectionary we only need a cury brackets, and remember if we check the type of empty culy braces then \n",
    "## it will show type as dict\n",
    "dict1 = {}\n",
    "type(dict1)"
   ]
  },
  {
   "cell_type": "code",
   "execution_count": 10,
   "id": "06895a1a",
   "metadata": {},
   "outputs": [
    {
     "data": {
      "text/plain": [
       "{'Name': 'Vivek Rajpoot', 'age': 18, 'Height': '178 cm'}"
      ]
     },
     "execution_count": 10,
     "metadata": {},
     "output_type": "execute_result"
    }
   ],
   "source": [
    "## To define a dectionary we need a key and value in the dictionary and the data structure we used the most is \n",
    "## dictionary which has many advantages when we are fetching data of the users\n",
    "dict2 = {'Name': 'Vivek Rajpoot', 'age': 18, 'Height': '178 cm'}\n",
    "dict2"
   ]
  },
  {
   "cell_type": "code",
   "execution_count": 11,
   "id": "7529b8e9",
   "metadata": {},
   "outputs": [
    {
     "name": "stdout",
     "output_type": "stream",
     "text": [
      "Name\n",
      "age\n",
      "Height\n"
     ]
    }
   ],
   "source": [
    "## we can perform some operation on dict2 to get some specific values\n",
    "## if we only want the key from the dict2\n",
    "for x in dict2:\n",
    "    print(x)"
   ]
  },
  {
   "cell_type": "code",
   "execution_count": 12,
   "id": "92e82632",
   "metadata": {},
   "outputs": [
    {
     "name": "stdout",
     "output_type": "stream",
     "text": [
      "Vivek Rajpoot\n",
      "18\n",
      "178 cm\n"
     ]
    }
   ],
   "source": [
    "## if we want to print the values of dict2\n",
    "for x in dict2.values():\n",
    "    print(x)"
   ]
  },
  {
   "cell_type": "code",
   "execution_count": 13,
   "id": "b08cab63",
   "metadata": {},
   "outputs": [
    {
     "name": "stdout",
     "output_type": "stream",
     "text": [
      "('Name', 'Vivek Rajpoot')\n",
      "('age', 18)\n",
      "('Height', '178 cm')\n"
     ]
    }
   ],
   "source": [
    "## now if we want the items from dict2\n",
    "for x in dict2.items():\n",
    "    print(x)"
   ]
  },
  {
   "cell_type": "code",
   "execution_count": 15,
   "id": "35c5211e",
   "metadata": {},
   "outputs": [
    {
     "name": "stdout",
     "output_type": "stream",
     "text": [
      "{'Name': 'Vivek Rajpoot', 'age': 18, 'Height': '178 cm', 'Place': 'UP'}\n"
     ]
    }
   ],
   "source": [
    "## if we want to add new items in the dict then we can add in this way\n",
    "dict2['Place'] = 'UP'\n",
    "print(dict2)"
   ]
  },
  {
   "cell_type": "code",
   "execution_count": 16,
   "id": "8dfa49c0",
   "metadata": {},
   "outputs": [],
   "source": [
    "### Nested Dictionary"
   ]
  },
  {
   "cell_type": "code",
   "execution_count": 17,
   "id": "3817b9cb",
   "metadata": {},
   "outputs": [
    {
     "data": {
      "text/plain": [
       "{'car1': {'Mercedes': 1960}, 'car2': {'Audi': 1965}, 'car3': {'Ford': 1970}}"
      ]
     },
     "execution_count": 17,
     "metadata": {},
     "output_type": "execute_result"
    }
   ],
   "source": [
    "car1_model = {'Mercedes': 1960}\n",
    "car2_model = {'Audi': 1965}\n",
    "car3_model = {'Ford': 1970}\n",
    "## now if we want to create a nested dictionary then\n",
    "car_model = {'car1':car1_model, 'car2': car2_model, 'car3': car3_model}\n",
    "car_model"
   ]
  },
  {
   "cell_type": "code",
   "execution_count": 18,
   "id": "02299081",
   "metadata": {},
   "outputs": [
    {
     "data": {
      "text/plain": [
       "{'Mercedes': 1960}"
      ]
     },
     "execution_count": 18,
     "metadata": {},
     "output_type": "execute_result"
    }
   ],
   "source": [
    "## Now if we want the value\n",
    "car_model['car1']"
   ]
  },
  {
   "cell_type": "code",
   "execution_count": 23,
   "id": "d697a8f3",
   "metadata": {},
   "outputs": [
    {
     "data": {
      "text/plain": [
       "1960"
      ]
     },
     "execution_count": 23,
     "metadata": {},
     "output_type": "execute_result"
    }
   ],
   "source": [
    "## Now if we want the value of first item\n",
    "car_model['car1']['Mercedes']\n",
    "## then we have to define both key values of first item"
   ]
  },
  {
   "cell_type": "markdown",
   "id": "dbfb5e0a",
   "metadata": {},
   "source": [
    "# Tuple\n",
    "    Tuples in Python are a collection of objects, similar to lists, but with some key differences.\n",
    "    Here are some characteristics of tuples:\n",
    "\n",
    "        Tuples are ordered, meaning that the items are stored in a specific order.\n",
    "        Tuples are immutable, meaning that once they are created, their contents cannot be changed.\n",
    "        Tuples allow duplicate values.\n",
    "        Tuples are indexed, with the first item having an index of 0, the second item having an index of 1, and so on.\n"
   ]
  },
  {
   "cell_type": "code",
   "execution_count": 31,
   "id": "ea445613",
   "metadata": {},
   "outputs": [
    {
     "data": {
      "text/plain": [
       "tuple"
      ]
     },
     "execution_count": 31,
     "metadata": {},
     "output_type": "execute_result"
    }
   ],
   "source": [
    "## we can create tuple as \n",
    "tuple1 = ('Hari','Ramu','Vivek','Sohan')\n",
    "type(tuple1)"
   ]
  },
  {
   "cell_type": "code",
   "execution_count": 25,
   "id": "8f113d73",
   "metadata": {},
   "outputs": [],
   "source": [
    "## Ther are only two inbuilt methods present in the tuple\n",
    "# 1. count()\n",
    "# 2. index()\n"
   ]
  },
  {
   "cell_type": "code",
   "execution_count": 28,
   "id": "6505c7b9",
   "metadata": {},
   "outputs": [
    {
     "data": {
      "text/plain": [
       "1"
      ]
     },
     "execution_count": 28,
     "metadata": {},
     "output_type": "execute_result"
    }
   ],
   "source": [
    "# now if we count some items in tuple1\n",
    "tuple1.count('Hari')"
   ]
  },
  {
   "cell_type": "code",
   "execution_count": 32,
   "id": "2e07a4b8",
   "metadata": {},
   "outputs": [
    {
     "data": {
      "text/plain": [
       "2"
      ]
     },
     "execution_count": 32,
     "metadata": {},
     "output_type": "execute_result"
    }
   ],
   "source": [
    "## we can also check the index of the items by using index method\n",
    "tuple1.index('Vivek')"
   ]
  },
  {
   "cell_type": "code",
   "execution_count": null,
   "id": "46aee954",
   "metadata": {},
   "outputs": [],
   "source": []
  }
 ],
 "metadata": {
  "kernelspec": {
   "display_name": "Python 3 (ipykernel)",
   "language": "python",
   "name": "python3"
  },
  "language_info": {
   "codemirror_mode": {
    "name": "ipython",
    "version": 3
   },
   "file_extension": ".py",
   "mimetype": "text/x-python",
   "name": "python",
   "nbconvert_exporter": "python",
   "pygments_lexer": "ipython3",
   "version": "3.9.13"
  }
 },
 "nbformat": 4,
 "nbformat_minor": 5
}
