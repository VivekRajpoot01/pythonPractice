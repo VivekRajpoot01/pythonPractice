{
 "cells": [
  {
   "cell_type": "markdown",
   "id": "42496073",
   "metadata": {},
   "source": [
    "# Python Basics"
   ]
  },
  {
   "cell_type": "markdown",
   "id": "06301b98",
   "metadata": {},
   "source": [
    "### Python is a dynamic type language which means at the time of creating the variable we don't need to define the type of the variable, it can automatically detect which type of variable it need to create. The most important thing is that we can also easily change one type of variable to another. \n",
    "### For e.g, if we want to change the type of variable from string to integer then we only have to change the value of the variable and it can automatically change its types"
   ]
  },
  {
   "cell_type": "code",
   "execution_count": 1,
   "id": "a7964caf",
   "metadata": {},
   "outputs": [
    {
     "data": {
      "text/plain": [
       "int"
      ]
     },
     "execution_count": 1,
     "metadata": {},
     "output_type": "execute_result"
    }
   ],
   "source": [
    "# create a variable a\n",
    "a = 20\n",
    "type(a)"
   ]
  },
  {
   "cell_type": "code",
   "execution_count": 2,
   "id": "f973b6b6",
   "metadata": {},
   "outputs": [
    {
     "data": {
      "text/plain": [
       "str"
      ]
     },
     "execution_count": 2,
     "metadata": {},
     "output_type": "execute_result"
    }
   ],
   "source": [
    "# now changing the value of the variable to string\n",
    "a = \"Raju\"\n",
    "type(a)"
   ]
  },
  {
   "cell_type": "code",
   "execution_count": 3,
   "id": "6f89e35b",
   "metadata": {},
   "outputs": [],
   "source": [
    "# Now the type of variable easily changes from integer to string"
   ]
  },
  {
   "cell_type": "markdown",
   "id": "ecf01feb",
   "metadata": {},
   "source": [
    "## Taking Input"
   ]
  },
  {
   "cell_type": "code",
   "execution_count": 2,
   "id": "9a8f91e4",
   "metadata": {},
   "outputs": [
    {
     "name": "stdout",
     "output_type": "stream",
     "text": [
      "Enter a number: 20\n",
      "20\n"
     ]
    },
    {
     "data": {
      "text/plain": [
       "str"
      ]
     },
     "execution_count": 2,
     "metadata": {},
     "output_type": "execute_result"
    }
   ],
   "source": [
    "# We can easily take the input by input() function, but remember it convert the input to string\n",
    "b = input(\"Enter a number: \")\n",
    "print(b)\n",
    "type(b)"
   ]
  },
  {
   "cell_type": "code",
   "execution_count": 3,
   "id": "7e173d7d",
   "metadata": {},
   "outputs": [
    {
     "name": "stdout",
     "output_type": "stream",
     "text": [
      "Enter a number: 21\n",
      "21\n",
      "<class 'int'>\n"
     ]
    }
   ],
   "source": [
    "# To convert it into the integer\n",
    "# we can typecase into integer as\n",
    "c = int(input(\"Enter a number: \"))\n",
    "print(c)\n",
    "print(type(c))"
   ]
  },
  {
   "cell_type": "markdown",
   "id": "0ba9a395",
   "metadata": {},
   "source": [
    "## Control Flows"
   ]
  },
  {
   "cell_type": "code",
   "execution_count": 8,
   "id": "ac54a963",
   "metadata": {},
   "outputs": [
    {
     "name": "stdout",
     "output_type": "stream",
     "text": [
      "Enter a number: 12\n",
      "Number is less than 20\n"
     ]
    }
   ],
   "source": [
    "# nested if-else statement\n",
    "num = int(input(\"Enter a number: \"))\n",
    "if(num>20):\n",
    "    print(\"Number is greater than 20\")\n",
    "elif(num==20):\n",
    "    print(\"Number is equal to 20\")\n",
    "else:\n",
    "    print(\"Number is less than 20\")"
   ]
  },
  {
   "cell_type": "code",
   "execution_count": 9,
   "id": "164b069d",
   "metadata": {},
   "outputs": [],
   "source": [
    "# Check input number is even or odd"
   ]
  },
  {
   "cell_type": "code",
   "execution_count": 10,
   "id": "0c0bb36b",
   "metadata": {},
   "outputs": [
    {
     "name": "stdout",
     "output_type": "stream",
     "text": [
      "Enter any number to check even or odd: 21\n",
      "Odd Number\n"
     ]
    }
   ],
   "source": [
    "num1 = int(input(\"Enter any number to check even or odd: \"))\n",
    "if(num1%2==0):\n",
    "    print(\"Even Number\")\n",
    "else:\n",
    "    print(\"Odd Number\")"
   ]
  },
  {
   "cell_type": "code",
   "execution_count": 11,
   "id": "bc12fd77",
   "metadata": {},
   "outputs": [
    {
     "name": "stdout",
     "output_type": "stream",
     "text": [
      "1\n",
      "2\n",
      "3\n",
      "4\n",
      "5\n",
      "6\n"
     ]
    }
   ],
   "source": [
    "# loop statement\n",
    "## for, while\n",
    "\n",
    "lst = [1,2,3,4,5,6]\n",
    "for i in lst:\n",
    "    print(i)"
   ]
  },
  {
   "cell_type": "code",
   "execution_count": 1,
   "id": "5464f156",
   "metadata": {},
   "outputs": [
    {
     "name": "stdout",
     "output_type": "stream",
     "text": [
      "38\n"
     ]
    }
   ],
   "source": [
    "## print the sum of the number present in the list\n",
    "lst1 = [6,8,4,7,2,11]\n",
    "sum1=0\n",
    "for i in lst1:\n",
    "    sum1 = sum1 + i\n",
    "print(sum1)"
   ]
  },
  {
   "cell_type": "code",
   "execution_count": 2,
   "id": "f62a43e8",
   "metadata": {},
   "outputs": [
    {
     "name": "stdout",
     "output_type": "stream",
     "text": [
      "Even Sum:  162\n",
      "Odd Sum:  209\n"
     ]
    }
   ],
   "source": [
    "## find the sum of odd and even number from the list\n",
    "lst2 = [5,4,7,8,6,33,12,44,99,65,88]\n",
    "even_sum = 0\n",
    "odd_sum = 0\n",
    "for i in lst2:\n",
    "    if(i%2==0):\n",
    "        even_sum = even_sum +i\n",
    "    else:\n",
    "        odd_sum = odd_sum +i\n",
    "\n",
    "print(\"Even Sum: \",even_sum)\n",
    "print(\"Odd Sum: \",odd_sum)"
   ]
  },
  {
   "cell_type": "code",
   "execution_count": 4,
   "id": "b9d13849",
   "metadata": {},
   "outputs": [
    {
     "name": "stdout",
     "output_type": "stream",
     "text": [
      "1\n",
      "2\n",
      "3\n",
      "4\n",
      "5\n",
      "6\n",
      "7\n",
      "8\n",
      "9\n",
      "10\n",
      "11\n",
      "12\n",
      "13\n",
      "14\n",
      "15\n",
      "The sum is:  120\n"
     ]
    }
   ],
   "source": [
    "## while condition\n",
    "# print the number from 1 to 15 and also print their sum using while loop\n",
    "i = 1\n",
    "sum_ = 0\n",
    "while(i<=15):\n",
    "    print(i)\n",
    "    sum_ = sum_ + i\n",
    "    i=i+1\n",
    "print('The sum is: ', sum_)"
   ]
  },
  {
   "cell_type": "code",
   "execution_count": null,
   "id": "d0abe187",
   "metadata": {},
   "outputs": [],
   "source": []
  }
 ],
 "metadata": {
  "kernelspec": {
   "display_name": "Python 3 (ipykernel)",
   "language": "python",
   "name": "python3"
  },
  "language_info": {
   "codemirror_mode": {
    "name": "ipython",
    "version": 3
   },
   "file_extension": ".py",
   "mimetype": "text/x-python",
   "name": "python",
   "nbconvert_exporter": "python",
   "pygments_lexer": "ipython3",
   "version": "3.9.13"
  }
 },
 "nbformat": 4,
 "nbformat_minor": 5
}
