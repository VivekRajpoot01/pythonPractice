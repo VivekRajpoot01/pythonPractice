{
 "cells": [
  {
   "cell_type": "markdown",
   "id": "02e351e0",
   "metadata": {},
   "source": [
    "# Python Numpy Arrays"
   ]
  },
  {
   "cell_type": "markdown",
   "id": "b7ce9ea6",
   "metadata": {},
   "source": [
    "## Numpy Tutorials\n",
    "    Numpy is a general purpose array-processing package. It provides a high performance multidimensional array object, and\n",
    "    tools for working with these arrays. It is the fundamental package for scintific computing with Python"
   ]
  },
  {
   "cell_type": "markdown",
   "id": "2dd7d86b",
   "metadata": {},
   "source": [
    "## What is an Array\n",
    "    An array is a data structure that stores value of same data type, this is the main difference between the array\n",
    "        and list in Python. While python list can contain values corresponding to different data types, arrays in python can only contain value corresponding to same data type."
   ]
  },
  {
   "cell_type": "code",
   "execution_count": 15,
   "id": "d83dfd94",
   "metadata": {},
   "outputs": [
    {
     "data": {
      "text/plain": [
       "numpy.ndarray"
      ]
     },
     "execution_count": 15,
     "metadata": {},
     "output_type": "execute_result"
    }
   ],
   "source": [
    "## import the library\n",
    "import numpy as np\n",
    "## create a list and then change it into numpy array\n",
    "lst = [1,2,3,4,5]\n",
    "arr = np.array(lst)\n",
    "type(arr)  # we got n dimensional numpy array\n"
   ]
  },
  {
   "cell_type": "code",
   "execution_count": 4,
   "id": "8d09e1e6",
   "metadata": {},
   "outputs": [
    {
     "data": {
      "text/plain": [
       "(5,)"
      ]
     },
     "execution_count": 4,
     "metadata": {},
     "output_type": "execute_result"
    }
   ],
   "source": [
    "## we can also check the shape of the array\n",
    "np.shape(lst)"
   ]
  },
  {
   "cell_type": "code",
   "execution_count": 5,
   "id": "5ed3b608",
   "metadata": {},
   "outputs": [
    {
     "data": {
      "text/plain": [
       "array([[1, 2, 3, 4],\n",
       "       [2, 3, 4, 5],\n",
       "       [3, 4, 5, 6]])"
      ]
     },
     "execution_count": 5,
     "metadata": {},
     "output_type": "execute_result"
    }
   ],
   "source": [
    "## we can also create two dimensional array by providing arrays in the array\n",
    "## let's create 3 list\n",
    "\n",
    "lst1 = [1,2,3,4]\n",
    "lst2 = [2,3,4,5]\n",
    "lst3 = [3,4,5,6]\n",
    "## use numpy library to make 2D numpy array\n",
    "arr1 = np.array([lst1,lst2,lst3])\n",
    "arr1"
   ]
  },
  {
   "cell_type": "code",
   "execution_count": 6,
   "id": "92c4434d",
   "metadata": {},
   "outputs": [
    {
     "data": {
      "text/plain": [
       "(3, 4)"
      ]
     },
     "execution_count": 6,
     "metadata": {},
     "output_type": "execute_result"
    }
   ],
   "source": [
    "## we can check the shape of the array\n",
    "np.shape(arr1)"
   ]
  },
  {
   "cell_type": "code",
   "execution_count": 7,
   "id": "ab8f6601",
   "metadata": {},
   "outputs": [],
   "source": [
    "## showing (3,4) means it has 3 rows and 4 columns"
   ]
  },
  {
   "cell_type": "code",
   "execution_count": 16,
   "id": "a268672b",
   "metadata": {},
   "outputs": [
    {
     "data": {
      "text/plain": [
       "array([1, 2, 3, 4, 5])"
      ]
     },
     "execution_count": 16,
     "metadata": {},
     "output_type": "execute_result"
    }
   ],
   "source": [
    "arr"
   ]
  },
  {
   "cell_type": "code",
   "execution_count": 17,
   "id": "0780e5d0",
   "metadata": {},
   "outputs": [
    {
     "data": {
      "text/plain": [
       "3"
      ]
     },
     "execution_count": 17,
     "metadata": {},
     "output_type": "execute_result"
    }
   ],
   "source": [
    "## indexing\n",
    "\n",
    "## we can easilt fetch the value through indexing\n",
    "arr[2]"
   ]
  },
  {
   "cell_type": "code",
   "execution_count": 18,
   "id": "5fe83c88",
   "metadata": {},
   "outputs": [
    {
     "data": {
      "text/plain": [
       "array([1, 2, 3, 4, 5])"
      ]
     },
     "execution_count": 18,
     "metadata": {},
     "output_type": "execute_result"
    }
   ],
   "source": [
    "## we can also specify the range for the array\n",
    "arr[:]   # print whole array"
   ]
  },
  {
   "cell_type": "code",
   "execution_count": 19,
   "id": "bbf14a55",
   "metadata": {},
   "outputs": [
    {
     "data": {
      "text/plain": [
       "array([2, 3, 4, 5])"
      ]
     },
     "execution_count": 19,
     "metadata": {},
     "output_type": "execute_result"
    }
   ],
   "source": [
    "arr[1:]  # print all the values after index 0"
   ]
  },
  {
   "cell_type": "code",
   "execution_count": 20,
   "id": "a2e65f6e",
   "metadata": {},
   "outputs": [
    {
     "data": {
      "text/plain": [
       "array([2, 3])"
      ]
     },
     "execution_count": 20,
     "metadata": {},
     "output_type": "execute_result"
    }
   ],
   "source": [
    "arr[1:3]"
   ]
  },
  {
   "cell_type": "code",
   "execution_count": 21,
   "id": "f676f4f2",
   "metadata": {},
   "outputs": [
    {
     "data": {
      "text/plain": [
       "array([1, 2, 3, 4])"
      ]
     },
     "execution_count": 21,
     "metadata": {},
     "output_type": "execute_result"
    }
   ],
   "source": [
    "## we can also leave last element and print the whole array\n",
    "arr[:-1]"
   ]
  },
  {
   "cell_type": "code",
   "execution_count": 22,
   "id": "7cb8a5f1",
   "metadata": {},
   "outputs": [
    {
     "data": {
      "text/plain": [
       "array([1, 2, 3, 4, 5])"
      ]
     },
     "execution_count": 22,
     "metadata": {},
     "output_type": "execute_result"
    }
   ],
   "source": [
    "##\n",
    "arr[::]"
   ]
  },
  {
   "cell_type": "code",
   "execution_count": 24,
   "id": "37c7fde6",
   "metadata": {},
   "outputs": [
    {
     "data": {
      "text/plain": [
       "array([1, 3, 5])"
      ]
     },
     "execution_count": 24,
     "metadata": {},
     "output_type": "execute_result"
    }
   ],
   "source": [
    "## we can also print the array in that way where we can leave one \n",
    "## element and print the next element in the array\n",
    "arr[::2]"
   ]
  },
  {
   "cell_type": "code",
   "execution_count": 26,
   "id": "7583cb8c",
   "metadata": {},
   "outputs": [
    {
     "data": {
      "text/plain": [
       "array([5, 3, 1])"
      ]
     },
     "execution_count": 26,
     "metadata": {},
     "output_type": "execute_result"
    }
   ],
   "source": [
    "## we can also reverse the array by adding minus(-) sign\n",
    "arr[::-2]"
   ]
  },
  {
   "cell_type": "code",
   "execution_count": 27,
   "id": "6b356456",
   "metadata": {},
   "outputs": [
    {
     "data": {
      "text/plain": [
       "array([[1, 2, 3, 4],\n",
       "       [2, 3, 4, 5],\n",
       "       [3, 4, 5, 6]])"
      ]
     },
     "execution_count": 27,
     "metadata": {},
     "output_type": "execute_result"
    }
   ],
   "source": [
    "arr1"
   ]
  },
  {
   "cell_type": "code",
   "execution_count": 28,
   "id": "62e1dd2a",
   "metadata": {},
   "outputs": [
    {
     "data": {
      "text/plain": [
       "array([2, 3, 4])"
      ]
     },
     "execution_count": 28,
     "metadata": {},
     "output_type": "execute_result"
    }
   ],
   "source": [
    "## we can also perform operations on the 2D array as well as\n",
    "## first we have to give rows and then column\n",
    "arr1[:,1]"
   ]
  },
  {
   "cell_type": "code",
   "execution_count": 29,
   "id": "d0f6b9ef",
   "metadata": {},
   "outputs": [
    {
     "data": {
      "text/plain": [
       "array([[1, 2],\n",
       "       [2, 3]])"
      ]
     },
     "execution_count": 29,
     "metadata": {},
     "output_type": "execute_result"
    }
   ],
   "source": [
    "arr1[:2,:2]"
   ]
  },
  {
   "cell_type": "code",
   "execution_count": 30,
   "id": "39290444",
   "metadata": {},
   "outputs": [
    {
     "data": {
      "text/plain": [
       "array([[2, 3],\n",
       "       [3, 4]])"
      ]
     },
     "execution_count": 30,
     "metadata": {},
     "output_type": "execute_result"
    }
   ],
   "source": [
    "arr1[:2,1:3]"
   ]
  },
  {
   "cell_type": "code",
   "execution_count": 31,
   "id": "df31051d",
   "metadata": {},
   "outputs": [
    {
     "data": {
      "text/plain": [
       "array([[2, 3, 4],\n",
       "       [3, 4, 5]])"
      ]
     },
     "execution_count": 31,
     "metadata": {},
     "output_type": "execute_result"
    }
   ],
   "source": [
    "arr1[1:,:3]"
   ]
  },
  {
   "cell_type": "code",
   "execution_count": 32,
   "id": "3f2723b3",
   "metadata": {},
   "outputs": [
    {
     "data": {
      "text/plain": [
       "array([1, 2, 3, 4, 5])"
      ]
     },
     "execution_count": 32,
     "metadata": {},
     "output_type": "execute_result"
    }
   ],
   "source": [
    "## EDA\n",
    "## we can check some chacracteristics by performing some operations\n",
    "arr"
   ]
  },
  {
   "cell_type": "code",
   "execution_count": 33,
   "id": "3f9e8db3",
   "metadata": {},
   "outputs": [
    {
     "data": {
      "text/plain": [
       "array([ True,  True, False, False, False])"
      ]
     },
     "execution_count": 33,
     "metadata": {},
     "output_type": "execute_result"
    }
   ],
   "source": [
    "## checking which items in the array is less than 3, we can also do by using for loop but that will\n",
    "## be time consuming for large data set\n",
    "arr<3"
   ]
  },
  {
   "cell_type": "code",
   "execution_count": 35,
   "id": "e811cf47",
   "metadata": {},
   "outputs": [
    {
     "data": {
      "text/plain": [
       "array([1, 2])"
      ]
     },
     "execution_count": 35,
     "metadata": {},
     "output_type": "execute_result"
    }
   ],
   "source": [
    "## we can also get the value of item\n",
    "arr[arr<3]"
   ]
  },
  {
   "cell_type": "code",
   "execution_count": 36,
   "id": "2ce88d32",
   "metadata": {},
   "outputs": [
    {
     "data": {
      "text/plain": [
       "array([[1, 2, 3, 4],\n",
       "       [2, 3, 4, 5],\n",
       "       [3, 4, 5, 6]])"
      ]
     },
     "execution_count": 36,
     "metadata": {},
     "output_type": "execute_result"
    }
   ],
   "source": [
    "## we have 2D array\n",
    "arr1"
   ]
  },
  {
   "cell_type": "code",
   "execution_count": 39,
   "id": "b0dae6d4",
   "metadata": {},
   "outputs": [
    {
     "data": {
      "text/plain": [
       "(3, 4)"
      ]
     },
     "execution_count": 39,
     "metadata": {},
     "output_type": "execute_result"
    }
   ],
   "source": [
    "arr1.shape"
   ]
  },
  {
   "cell_type": "code",
   "execution_count": 40,
   "id": "314b9e2b",
   "metadata": {},
   "outputs": [
    {
     "data": {
      "text/plain": [
       "array([[1, 2, 3],\n",
       "       [4, 2, 3],\n",
       "       [4, 5, 3],\n",
       "       [4, 5, 6]])"
      ]
     },
     "execution_count": 40,
     "metadata": {},
     "output_type": "execute_result"
    }
   ],
   "source": [
    "## we can also convert the shape of the array to (4,3)\n",
    "arr1.reshape(4,3)"
   ]
  },
  {
   "cell_type": "code",
   "execution_count": 42,
   "id": "22cfd38c",
   "metadata": {},
   "outputs": [
    {
     "data": {
      "text/plain": [
       "array([1, 3, 5, 7, 9])"
      ]
     },
     "execution_count": 42,
     "metadata": {},
     "output_type": "execute_result"
    }
   ],
   "source": [
    "## mechanism to create an array\n",
    "np.arange(1,10,2)      #(start,end,step)"
   ]
  },
  {
   "cell_type": "code",
   "execution_count": 43,
   "id": "cd336db1",
   "metadata": {},
   "outputs": [
    {
     "data": {
      "text/plain": [
       "array([[ 1,  3,  5,  7,  9],\n",
       "       [11, 13, 15, 17, 19]])"
      ]
     },
     "execution_count": 43,
     "metadata": {},
     "output_type": "execute_result"
    }
   ],
   "source": [
    "## we can also reshape the array into the 2D array\n",
    "np.arange(1,20,2).reshape(2,5)"
   ]
  },
  {
   "cell_type": "code",
   "execution_count": 45,
   "id": "93d300b0",
   "metadata": {},
   "outputs": [
    {
     "data": {
      "text/plain": [
       "array([1, 2, 3, 4, 5])"
      ]
     },
     "execution_count": 45,
     "metadata": {},
     "output_type": "execute_result"
    }
   ],
   "source": [
    "## also perform some other operations on the array\n",
    "arr"
   ]
  },
  {
   "cell_type": "code",
   "execution_count": 46,
   "id": "ccc701fc",
   "metadata": {},
   "outputs": [
    {
     "data": {
      "text/plain": [
       "array([ 2,  4,  6,  8, 10])"
      ]
     },
     "execution_count": 46,
     "metadata": {},
     "output_type": "execute_result"
    }
   ],
   "source": [
    "arr*2"
   ]
  },
  {
   "cell_type": "code",
   "execution_count": 47,
   "id": "66c72f98",
   "metadata": {},
   "outputs": [
    {
     "data": {
      "text/plain": [
       "array([ 1,  4,  9, 16, 25])"
      ]
     },
     "execution_count": 47,
     "metadata": {},
     "output_type": "execute_result"
    }
   ],
   "source": [
    "arr*arr"
   ]
  },
  {
   "cell_type": "code",
   "execution_count": 48,
   "id": "80aab640",
   "metadata": {},
   "outputs": [
    {
     "data": {
      "text/plain": [
       "array([[1, 2, 3, 4],\n",
       "       [2, 3, 4, 5],\n",
       "       [3, 4, 5, 6]])"
      ]
     },
     "execution_count": 48,
     "metadata": {},
     "output_type": "execute_result"
    }
   ],
   "source": [
    "arr1"
   ]
  },
  {
   "cell_type": "code",
   "execution_count": 49,
   "id": "c7d29cee",
   "metadata": {},
   "outputs": [
    {
     "data": {
      "text/plain": [
       "array([[ 3,  6,  9, 12],\n",
       "       [ 6,  9, 12, 15],\n",
       "       [ 9, 12, 15, 18]])"
      ]
     },
     "execution_count": 49,
     "metadata": {},
     "output_type": "execute_result"
    }
   ],
   "source": [
    "arr1*3"
   ]
  },
  {
   "cell_type": "code",
   "execution_count": 50,
   "id": "a952dbd6",
   "metadata": {},
   "outputs": [
    {
     "data": {
      "text/plain": [
       "array([[ 1,  4,  9, 16],\n",
       "       [ 4,  9, 16, 25],\n",
       "       [ 9, 16, 25, 36]])"
      ]
     },
     "execution_count": 50,
     "metadata": {},
     "output_type": "execute_result"
    }
   ],
   "source": [
    "arr1*arr1"
   ]
  },
  {
   "cell_type": "code",
   "execution_count": 52,
   "id": "0fa24deb",
   "metadata": {},
   "outputs": [
    {
     "data": {
      "text/plain": [
       "array([[1., 1., 1., 1.],\n",
       "       [1., 1., 1., 1.]])"
      ]
     },
     "execution_count": 52,
     "metadata": {},
     "output_type": "execute_result"
    }
   ],
   "source": [
    "np.ones((2,4))"
   ]
  },
  {
   "cell_type": "code",
   "execution_count": 53,
   "id": "77bd750f",
   "metadata": {},
   "outputs": [
    {
     "data": {
      "text/plain": [
       "array([[0., 0., 0., 0.],\n",
       "       [0., 0., 0., 0.],\n",
       "       [0., 0., 0., 0.],\n",
       "       [0., 0., 0., 0.],\n",
       "       [0., 0., 0., 0.]])"
      ]
     },
     "execution_count": 53,
     "metadata": {},
     "output_type": "execute_result"
    }
   ],
   "source": [
    "np.zeros((5,4))"
   ]
  },
  {
   "cell_type": "code",
   "execution_count": 56,
   "id": "1257695a",
   "metadata": {},
   "outputs": [
    {
     "data": {
      "text/plain": [
       "67"
      ]
     },
     "execution_count": 56,
     "metadata": {},
     "output_type": "execute_result"
    }
   ],
   "source": [
    "## we can also get any random value between the numeber\n",
    "## for e.g, we want a number between the 41 and 99 then\n",
    "np.random.randint(41,99)   # we will got random integer every time when we run the code"
   ]
  },
  {
   "cell_type": "code",
   "execution_count": 58,
   "id": "51470661",
   "metadata": {},
   "outputs": [
    {
     "data": {
      "text/plain": [
       "array([62, 60, 38, 65, 30, 34, 45, 60, 56])"
      ]
     },
     "execution_count": 58,
     "metadata": {},
     "output_type": "execute_result"
    }
   ],
   "source": [
    "## now if we want 4 values between specific limit\n",
    "## then we can perform this\\\n",
    "np.random.randint(11,66,9)   # we will got 9 random values every time between 11 and 66"
   ]
  },
  {
   "cell_type": "code",
   "execution_count": 59,
   "id": "8c3b892c",
   "metadata": {},
   "outputs": [
    {
     "data": {
      "text/plain": [
       "array([[18, 29,  9],\n",
       "       [10, 32, 21],\n",
       "       [ 5, 21, 29]])"
      ]
     },
     "execution_count": 59,
     "metadata": {},
     "output_type": "execute_result"
    }
   ],
   "source": [
    "## we can also reshape it\n",
    "np.random.randint(2,33,9).reshape(3,3)"
   ]
  },
  {
   "cell_type": "code",
   "execution_count": null,
   "id": "24d100d0",
   "metadata": {},
   "outputs": [],
   "source": []
  }
 ],
 "metadata": {
  "kernelspec": {
   "display_name": "Python 3 (ipykernel)",
   "language": "python",
   "name": "python3"
  },
  "language_info": {
   "codemirror_mode": {
    "name": "ipython",
    "version": 3
   },
   "file_extension": ".py",
   "mimetype": "text/x-python",
   "name": "python",
   "nbconvert_exporter": "python",
   "pygments_lexer": "ipython3",
   "version": "3.9.13"
  }
 },
 "nbformat": 4,
 "nbformat_minor": 5
}
